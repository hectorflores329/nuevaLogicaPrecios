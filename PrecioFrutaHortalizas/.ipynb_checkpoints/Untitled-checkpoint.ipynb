{
 "cells": [
  {
   "cell_type": "code",
   "execution_count": 1,
   "metadata": {},
   "outputs": [],
   "source": [
    "import time\n",
    "import wget\n",
    "import datetime\n",
    "from os import scandir, getcwd\n",
    "import pandas as pd\n",
    "import openpyxl\n",
    "\n",
    "def ls(ruta = getcwd()):\n",
    "    return [arch.name for arch in scandir(ruta) if arch.is_file()]\n",
    "\n",
    "def lsExcel():\n",
    "    salida = []\n",
    "    for i in ls():\n",
    "        if(\"xlsx\" in i):\n",
    "            salida.append(i)\n",
    "    return salida"
   ]
  },
  {
   "cell_type": "code",
   "execution_count": null,
   "metadata": {},
   "outputs": [],
   "source": []
  },
  {
   "cell_type": "code",
   "execution_count": 3,
   "metadata": {},
   "outputs": [
    {
     "data": {
      "text/plain": [
       "'20201210.xlsx'"
      ]
     },
     "execution_count": 3,
     "metadata": {},
     "output_type": "execute_result"
    }
   ],
   "source": [
    "\n",
    "\n",
    "url = \"https://www.odepa.gob.cl/wp-content/uploads/2020/12/Boletin_Diario_de_Frutas_y_Hortalizas_20201210.xlsx\"\n",
    "\n",
    "wget.download(url, '20201210.xlsx')"
   ]
  },
  {
   "cell_type": "code",
   "execution_count": 14,
   "metadata": {},
   "outputs": [
    {
     "data": {
      "text/plain": [
       "'20201209'"
      ]
     },
     "execution_count": 14,
     "metadata": {},
     "output_type": "execute_result"
    }
   ],
   "source": [
    "(datetime.datetime.now() - datetime.timedelta(days = 1)).strftime(\"%Y%m%d\")"
   ]
  },
  {
   "cell_type": "code",
   "execution_count": 28,
   "metadata": {},
   "outputs": [
    {
     "name": "stdout",
     "output_type": "stream",
     "text": [
      "https://www.odepa.gob.cl/wp-content/uploads/2020/11/Boletin_Diario_de_Frutas_y_Hortalizas_20201210.xlsx\n",
      "https://www.odepa.gob.cl/wp-content/uploads/2020/11/Boletin_Diario_de_Frutas_y_Hortalizas_20201209.xlsx\n",
      "https://www.odepa.gob.cl/wp-content/uploads/2020/11/Boletin_Diario_de_Frutas_y_Hortalizas_20201208.xlsx\n",
      "https://www.odepa.gob.cl/wp-content/uploads/2020/11/Boletin_Diario_de_Frutas_y_Hortalizas_20201207.xlsx\n",
      "https://www.odepa.gob.cl/wp-content/uploads/2020/11/Boletin_Diario_de_Frutas_y_Hortalizas_20201206.xlsx\n",
      "https://www.odepa.gob.cl/wp-content/uploads/2020/11/Boletin_Diario_de_Frutas_y_Hortalizas_20201205.xlsx\n",
      "https://www.odepa.gob.cl/wp-content/uploads/2020/11/Boletin_Diario_de_Frutas_y_Hortalizas_20201204.xlsx\n",
      "https://www.odepa.gob.cl/wp-content/uploads/2020/11/Boletin_Diario_de_Frutas_y_Hortalizas_20201203.xlsx\n",
      "https://www.odepa.gob.cl/wp-content/uploads/2020/11/Boletin_Diario_de_Frutas_y_Hortalizas_20201202.xlsx\n",
      "https://www.odepa.gob.cl/wp-content/uploads/2020/11/Boletin_Diario_de_Frutas_y_Hortalizas_20201201.xlsx\n",
      "https://www.odepa.gob.cl/wp-content/uploads/2020/11/Boletin_Diario_de_Frutas_y_Hortalizas_20201130.xlsx\n",
      "https://www.odepa.gob.cl/wp-content/uploads/2020/11/Boletin_Diario_de_Frutas_y_Hortalizas_20201129.xlsx\n",
      "https://www.odepa.gob.cl/wp-content/uploads/2020/11/Boletin_Diario_de_Frutas_y_Hortalizas_20201128.xlsx\n",
      "https://www.odepa.gob.cl/wp-content/uploads/2020/11/Boletin_Diario_de_Frutas_y_Hortalizas_20201127.xlsx\n",
      "https://www.odepa.gob.cl/wp-content/uploads/2020/11/Boletin_Diario_de_Frutas_y_Hortalizas_20201126.xlsx\n",
      "https://www.odepa.gob.cl/wp-content/uploads/2020/11/Boletin_Diario_de_Frutas_y_Hortalizas_20201125.xlsx\n",
      "https://www.odepa.gob.cl/wp-content/uploads/2020/11/Boletin_Diario_de_Frutas_y_Hortalizas_20201124.xlsx\n"
     ]
    }
   ],
   "source": [
    "for i in range(17):\n",
    "    urlBase =  \"https://www.odepa.gob.cl/wp-content/uploads/2020/11/Boletin_Diario_de_Frutas_y_Hortalizas_\"\n",
    "    fecha = (datetime.datetime.now() - datetime.timedelta(days = i)).strftime(\"%Y%m%d.xlsx\") \n",
    "\n",
    "    try:\n",
    "        wget.download(urlBase + fecha, fecha)\n",
    "    except:\n",
    "        pass\n",
    "\n",
    "    print(urlBase + fecha)"
   ]
  },
  {
   "cell_type": "code",
   "execution_count": 37,
   "metadata": {},
   "outputs": [
    {
     "data": {
      "text/plain": [
       "['20201124.xlsx',\n",
       " '20201125.xlsx',\n",
       " '20201126.xlsx',\n",
       " '20201127.xlsx',\n",
       " '20201130.xlsx',\n",
       " '20201201.xlsx',\n",
       " '20201202.xlsx',\n",
       " '20201203.xlsx',\n",
       " '20201204.xlsx',\n",
       " '20201207.xlsx',\n",
       " '20201209.xlsx',\n",
       " '20201210.xlsx']"
      ]
     },
     "execution_count": 37,
     "metadata": {},
     "output_type": "execute_result"
    }
   ],
   "source": [
    "lsExcel()"
   ]
  },
  {
   "cell_type": "code",
   "execution_count": 38,
   "metadata": {},
   "outputs": [
    {
     "data": {
      "text/plain": [
       "['.xlsx',\n",
       " '.xlsx',\n",
       " '.xlsx',\n",
       " '.xlsx',\n",
       " '.xlsx',\n",
       " '.xlsx',\n",
       " '.xlsx',\n",
       " '.xlsx',\n",
       " '.xlsx',\n",
       " '.xlsx',\n",
       " '.xlsx',\n",
       " '.xlsx',\n",
       " '.xlsx',\n",
       " '.xlsx']"
      ]
     },
     "execution_count": 38,
     "metadata": {},
     "output_type": "execute_result"
    }
   ],
   "source": [
    "[\".xlsx\" for i in ls() if True]"
   ]
  },
  {
   "cell_type": "code",
   "execution_count": 7,
   "metadata": {},
   "outputs": [
    {
     "name": "stderr",
     "output_type": "stream",
     "text": [
      "<ipython-input-7-95c85c49f7eb>:2: DeprecationWarning: Call to deprecated function get_sheet_names (Use wb.sheetnames).\n",
      "  hojas = wb.get_sheet_names()\n"
     ]
    },
    {
     "data": {
      "text/plain": [
       "['Portada Boletin diario',\n",
       " 'Frutas_Lo Valledor',\n",
       " 'Frutas_Vega Central Mapocho',\n",
       " 'Frutas_Macroferia Talca',\n",
       " 'Frutas_Femacal',\n",
       " 'Frutas_La Palmera',\n",
       " 'Frutas_Solcoagro',\n",
       " 'Frutas_Vega Monumental',\n",
       " 'Frutas_Lagunita Pto.Montt',\n",
       " 'Frutas_Vega Modelo Temuco',\n",
       " 'Frutas_Agrochillan',\n",
       " 'Frutas_Agronor',\n",
       " 'Hortalizas_Lo Valledor',\n",
       " 'Hortalizas_Vega Central Mapocho',\n",
       " 'Hortalizas_Mapocho Vta.dir',\n",
       " 'Hortalizas_Macroferia Talca',\n",
       " 'Hortalizas_Femacal',\n",
       " 'Hortalizas_La Palmera',\n",
       " 'Hortalizas_Solcoagro',\n",
       " 'Hortalizas_Vega Monumental',\n",
       " 'Hortalizas_Lagunita Pto.Montt',\n",
       " 'Hortalizas_Vega Modelo Temuco',\n",
       " 'Hortalizas_Agrochillan',\n",
       " 'Hortalizas_Agronor']"
      ]
     },
     "execution_count": 7,
     "metadata": {},
     "output_type": "execute_result"
    }
   ],
   "source": [
    "wb = openpyxl.load_workbook(lsExcel()[0])\n",
    "hojas = wb.get_sheet_names()\n",
    "hojas"
   ]
  },
  {
   "cell_type": "code",
   "execution_count": 6,
   "metadata": {},
   "outputs": [
    {
     "name": "stdout",
     "output_type": "stream",
     "text": [
      "20201124.xlsx\n",
      "20201125.xlsx\n",
      "20201126.xlsx\n",
      "20201127.xlsx\n",
      "20201130.xlsx\n",
      "20201201.xlsx\n",
      "20201202.xlsx\n",
      "20201203.xlsx\n",
      "20201204.xlsx\n",
      "20201207.xlsx\n",
      "20201209.xlsx\n",
      "20201210.xlsx\n",
      "20201211.xlsx\n"
     ]
    }
   ],
   "source": [
    "for i in lsExcel():\n",
    "    #wb = openpyxl.load_workbook(lsExcel()[0])\n",
    "    #hojas = wb.get_sheet_names()\n",
    "    #print(hojas == base)\n",
    "    #print(\"************************************************************\")\n",
    "    print(i)"
   ]
  },
  {
   "cell_type": "code",
   "execution_count": 44,
   "metadata": {},
   "outputs": [],
   "source": [
    "base = hojas"
   ]
  },
  {
   "cell_type": "code",
   "execution_count": 5,
   "metadata": {},
   "outputs": [
    {
     "name": "stdout",
     "output_type": "stream",
     "text": [
      "https://www.odepa.gob.cl/wp-content/uploads/2020/12/Boletin_Diario_de_Frutas_y_Hortalizas_20201211.xlsx\n"
     ]
    }
   ],
   "source": [
    "urlBase =  \"https://www.odepa.gob.cl/wp-content/uploads/2020/12/Boletin_Diario_de_Frutas_y_Hortalizas_\"\n",
    "\n",
    "fecha = (datetime.datetime.now() - datetime.timedelta(days = 0)).strftime(\"%Y%m%d.xlsx\") \n",
    "wget.download(urlBase + fecha, fecha)\n",
    "print(urlBase + fecha)"
   ]
  },
  {
   "cell_type": "code",
   "execution_count": 4,
   "metadata": {},
   "outputs": [
    {
     "name": "stdout",
     "output_type": "stream",
     "text": [
      "https://www.odepa.gob.cl/wp-content/uploads/2020/11/Boletin_Diario_de_Frutas_y_Hortalizas_20201211.xlsx\n"
     ]
    }
   ],
   "source": [
    "print(urlBase + fecha)"
   ]
  },
  {
   "cell_type": "code",
   "execution_count": null,
   "metadata": {},
   "outputs": [],
   "source": []
  }
 ],
 "metadata": {
  "kernelspec": {
   "display_name": "Python 3",
   "language": "python",
   "name": "python3"
  },
  "language_info": {
   "codemirror_mode": {
    "name": "ipython",
    "version": 3
   },
   "file_extension": ".py",
   "mimetype": "text/x-python",
   "name": "python",
   "nbconvert_exporter": "python",
   "pygments_lexer": "ipython3",
   "version": "3.8.5"
  }
 },
 "nbformat": 4,
 "nbformat_minor": 4
}
