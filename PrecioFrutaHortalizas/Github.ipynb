{
 "cells": [
  {
   "cell_type": "code",
   "execution_count": 3,
   "metadata": {},
   "outputs": [],
   "source": [
    "import git\n",
    "import datetime"
   ]
  },
  {
   "cell_type": "code",
   "execution_count": 11,
   "metadata": {},
   "outputs": [],
   "source": [
    "def guardarRepositorio():\n",
    "    #repoLocal = git.Repo( 'C:/Users/mario1/Documents/GitHub/Python/Datos' )\n",
    "    repoLocal = git.Repo('D:\\GitHub\\DATA-AGRO')\n",
    "    #print(repoLocal.git.status())\n",
    "\n",
    "    try:\n",
    "        for remote in repoLocal.remotes:\n",
    "            remote.fetch()\n",
    "\n",
    "        for remote in repoLocal.remotes:\n",
    "            remote.pull()\n",
    "        repoLocal.git.add(\".\")\n",
    "        repoLocal.git.commit(m='Update automatico via Actualizar ' + datetime.datetime.now().strftime(\"%m-%d-%Y %H-%M-%S\"))\n",
    "        origin = repoLocal.remote(name='origin')\n",
    "        origin.push()\n",
    "    except:\n",
    "        print(\"Error de GITHUB\")\n",
    "\n",
    "    return"
   ]
  },
  {
   "cell_type": "code",
   "execution_count": 4,
   "metadata": {},
   "outputs": [],
   "source": [
    "repoLocal = git.Repo('D:\\GitHub\\DATA-AGRO')"
   ]
  },
  {
   "cell_type": "code",
   "execution_count": 10,
   "metadata": {},
   "outputs": [],
   "source": [
    "for remote in repoLocal.remotes:\n",
    "    remote.fetch()\n",
    "    \n",
    "for remote in repoLocal.remotes:\n",
    "    remote.pull()"
   ]
  },
  {
   "cell_type": "code",
   "execution_count": 8,
   "metadata": {},
   "outputs": [
    {
     "ename": "AttributeError",
     "evalue": "'Repo' object has no attribute 'fetch'",
     "output_type": "error",
     "traceback": [
      "\u001b[1;31m---------------------------------------------------------------------------\u001b[0m",
      "\u001b[1;31mAttributeError\u001b[0m                            Traceback (most recent call last)",
      "\u001b[1;32m<ipython-input-8-97521b854870>\u001b[0m in \u001b[0;36m<module>\u001b[1;34m\u001b[0m\n\u001b[1;32m----> 1\u001b[1;33m \u001b[0mrepoLocal\u001b[0m\u001b[1;33m.\u001b[0m\u001b[0mfetch\u001b[0m\u001b[1;33m(\u001b[0m\u001b[1;33m)\u001b[0m\u001b[1;33m\u001b[0m\u001b[1;33m\u001b[0m\u001b[0m\n\u001b[0m",
      "\u001b[1;31mAttributeError\u001b[0m: 'Repo' object has no attribute 'fetch'"
     ]
    }
   ],
   "source": [
    "o = repoLocal.remotes.origin"
   ]
  },
  {
   "cell_type": "code",
   "execution_count": 12,
   "metadata": {},
   "outputs": [],
   "source": [
    "guardarRepositorio()"
   ]
  },
  {
   "cell_type": "code",
   "execution_count": null,
   "metadata": {},
   "outputs": [],
   "source": []
  }
 ],
 "metadata": {
  "kernelspec": {
   "display_name": "Python 3",
   "language": "python",
   "name": "python3"
  },
  "language_info": {
   "codemirror_mode": {
    "name": "ipython",
    "version": 3
   },
   "file_extension": ".py",
   "mimetype": "text/x-python",
   "name": "python",
   "nbconvert_exporter": "python",
   "pygments_lexer": "ipython3",
   "version": "3.8.5"
  }
 },
 "nbformat": 4,
 "nbformat_minor": 4
}
