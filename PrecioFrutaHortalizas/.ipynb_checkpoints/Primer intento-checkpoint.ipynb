{
 "cells": [
  {
   "cell_type": "code",
   "execution_count": 1,
   "metadata": {},
   "outputs": [],
   "source": [
    "import time\n",
    "import wget\n",
    "import datetime\n",
    "from os import scandir, getcwd\n",
    "import pandas as pd\n",
    "import openpyxl\n",
    "\n",
    "def ls(ruta = getcwd()):\n",
    "    return [arch.name for arch in scandir(ruta) if arch.is_file()]\n",
    "\n",
    "def lsExcel():\n",
    "    salida = []\n",
    "    for i in ls():\n",
    "        if(\"xlsx\" in i):\n",
    "            salida.append(i)\n",
    "    return salida"
   ]
  },
  {
   "cell_type": "code",
   "execution_count": 4,
   "metadata": {},
   "outputs": [
    {
     "name": "stderr",
     "output_type": "stream",
     "text": [
      "<ipython-input-4-95c85c49f7eb>:2: DeprecationWarning: Call to deprecated function get_sheet_names (Use wb.sheetnames).\n",
      "  hojas = wb.get_sheet_names()\n"
     ]
    },
    {
     "data": {
      "text/plain": [
       "['Portada Boletin diario',\n",
       " 'Frutas_Lo Valledor',\n",
       " 'Frutas_Vega Central Mapocho',\n",
       " 'Frutas_Macroferia Talca',\n",
       " 'Frutas_Femacal',\n",
       " 'Frutas_La Palmera',\n",
       " 'Frutas_Solcoagro',\n",
       " 'Frutas_Vega Monumental',\n",
       " 'Frutas_Lagunita Pto.Montt',\n",
       " 'Frutas_Vega Modelo Temuco',\n",
       " 'Frutas_Agrochillan',\n",
       " 'Frutas_Agronor',\n",
       " 'Hortalizas_Lo Valledor',\n",
       " 'Hortalizas_Vega Central Mapocho',\n",
       " 'Hortalizas_Mapocho Vta.dir',\n",
       " 'Hortalizas_Macroferia Talca',\n",
       " 'Hortalizas_Femacal',\n",
       " 'Hortalizas_La Palmera',\n",
       " 'Hortalizas_Solcoagro',\n",
       " 'Hortalizas_Vega Monumental',\n",
       " 'Hortalizas_Lagunita Pto.Montt',\n",
       " 'Hortalizas_Vega Modelo Temuco',\n",
       " 'Hortalizas_Agrochillan',\n",
       " 'Hortalizas_Agronor']"
      ]
     },
     "execution_count": 4,
     "metadata": {},
     "output_type": "execute_result"
    }
   ],
   "source": [
    "wb = openpyxl.load_workbook(lsExcel()[0])\n",
    "hojas = wb.get_sheet_names()\n",
    "hojas"
   ]
  },
  {
   "cell_type": "code",
   "execution_count": 9,
   "metadata": {},
   "outputs": [
    {
     "data": {
      "text/plain": [
       "['Frutas_Lo Valledor',\n",
       " 'Frutas_Vega Central Mapocho',\n",
       " 'Frutas_Macroferia Talca',\n",
       " 'Frutas_Femacal',\n",
       " 'Frutas_La Palmera',\n",
       " 'Frutas_Solcoagro',\n",
       " 'Frutas_Vega Monumental',\n",
       " 'Frutas_Lagunita Pto.Montt',\n",
       " 'Frutas_Vega Modelo Temuco',\n",
       " 'Frutas_Agrochillan',\n",
       " 'Frutas_Agronor']"
      ]
     },
     "execution_count": 9,
     "metadata": {},
     "output_type": "execute_result"
    }
   ],
   "source": [
    "Frutas = []\n",
    "for i in hojas:\n",
    "    if(\"Frutas\" in i):\n",
    "        Frutas.append(i)\n",
    "Frutas"
   ]
  },
  {
   "cell_type": "code",
   "execution_count": 8,
   "metadata": {},
   "outputs": [
    {
     "data": {
      "text/plain": [
       "['Hortalizas_Lo Valledor',\n",
       " 'Hortalizas_Vega Central Mapocho',\n",
       " 'Hortalizas_Mapocho Vta.dir',\n",
       " 'Hortalizas_Macroferia Talca',\n",
       " 'Hortalizas_Femacal',\n",
       " 'Hortalizas_La Palmera',\n",
       " 'Hortalizas_Solcoagro',\n",
       " 'Hortalizas_Vega Monumental',\n",
       " 'Hortalizas_Lagunita Pto.Montt',\n",
       " 'Hortalizas_Vega Modelo Temuco',\n",
       " 'Hortalizas_Agrochillan',\n",
       " 'Hortalizas_Agronor']"
      ]
     },
     "execution_count": 8,
     "metadata": {},
     "output_type": "execute_result"
    }
   ],
   "source": [
    "Hortalizas = []\n",
    "for i in hojas:\n",
    "    if(\"Hortalizas\" in i):\n",
    "        Hortalizas.append(i)\n",
    "Hortalizas"
   ]
  },
  {
   "cell_type": "code",
   "execution_count": null,
   "metadata": {},
   "outputs": [],
   "source": []
  }
 ],
 "metadata": {
  "kernelspec": {
   "display_name": "Python 3",
   "language": "python",
   "name": "python3"
  },
  "language_info": {
   "codemirror_mode": {
    "name": "ipython",
    "version": 3
   },
   "file_extension": ".py",
   "mimetype": "text/x-python",
   "name": "python",
   "nbconvert_exporter": "python",
   "pygments_lexer": "ipython3",
   "version": "3.8.5"
  }
 },
 "nbformat": 4,
 "nbformat_minor": 4
}
